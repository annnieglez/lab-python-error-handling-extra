{
 "cells": [
  {
   "cell_type": "markdown",
   "id": "25d7736c-ba17-4aff-b6bb-66eba20fbf4e",
   "metadata": {},
   "source": [
    "# Lab | Error Handling"
   ]
  },
  {
   "cell_type": "markdown",
   "id": "6f8e446f-16b4-4e21-92e7-9d3d1eb551b6",
   "metadata": {},
   "source": [
    "Objective: Practice how to identify, handle and recover from potential errors in Python code using try-except blocks."
   ]
  },
  {
   "cell_type": "markdown",
   "id": "e253e768-aed8-4791-a800-87add1204afa",
   "metadata": {},
   "source": [
    "## Challenge \n",
    "\n",
    "Paste here your lab *functions* solutions. Apply error handling techniques to each function using try-except blocks. "
   ]
  },
  {
   "cell_type": "markdown",
   "id": "9180ff86-c3fe-4152-a609-081a287fa1af",
   "metadata": {},
   "source": [
    "The try-except block in Python is designed to handle exceptions and provide a fallback mechanism when code encounters errors. By enclosing the code that could potentially throw errors in a try block, followed by specific or general exception handling in the except block, we can gracefully recover from errors and continue program execution.\n",
    "\n",
    "However, there may be cases where an input may not produce an immediate error, but still needs to be addressed. In such situations, it can be useful to explicitly raise an error using the \"raise\" keyword, either to draw attention to the issue or handle it elsewhere in the program.\n",
    "\n",
    "Modify the code to handle possible errors in Python, it is recommended to use `try-except-else-finally` blocks, incorporate the `raise` keyword where necessary, and print meaningful error messages to alert users of any issues that may occur during program execution.\n",
    "\n"
   ]
  },
  {
   "cell_type": "code",
   "execution_count": 11,
   "id": "cc2c441d-9dcf-4817-b097-cf6cbe440846",
   "metadata": {},
   "outputs": [
    {
     "name": "stdout",
     "output_type": "stream",
     "text": [
      "Enter a valid value\n",
      "0.6\n",
      "5.2\n",
      "Can not divide by zero\n"
     ]
    }
   ],
   "source": [
    "# your code goes here\n",
    "\n",
    "def addition(a: float, b:float) -> float:\n",
    "    return round(a+b, 1)\n",
    "\n",
    "def subtraction(a: float, b:float) -> float:\n",
    "    return round(a-b, 1)\n",
    "\n",
    "def multiplication(a: float, b:float) -> float:\n",
    "    return round(a*b, 1)\n",
    "\n",
    "def division(a: float, b:float) -> float:\n",
    "    return round(a/b, 1)\n",
    "\n",
    "def calculate(a: float, b: float, operand: str) -> float:\n",
    "    try:\n",
    "        while True:\n",
    "            if operand == \"+\":\n",
    "                result = addition(a, b)\n",
    "                return result\n",
    "            elif operand == \"-\":\n",
    "                result = subtraction(a, b)\n",
    "                return result\n",
    "            elif operand == \"*\":\n",
    "                result = multiplication(a, b)\n",
    "                return result\n",
    "            elif operand == \"/\":\n",
    "                if b == 0:\n",
    "                    raise ZeroDivisionError\n",
    "                else:\n",
    "                    result = division(a, b)\n",
    "                    return result\n",
    "            else:\n",
    "                print(\"Enter a valid operator\") \n",
    "    except ZeroDivisionError:\n",
    "        return(\"Can not divide by zero\")\n",
    "    except:\n",
    "        return(\"Enter a valid value\")\n",
    "\n",
    "print(calculate(2.6,\"a\",\"+\"))\n",
    "print(calculate(2.6,2,\"-\"))\n",
    "print(calculate(2.6,2,\"*\"))\n",
    "print(calculate(2.6,0,\"/\"))"
   ]
  },
  {
   "cell_type": "code",
   "execution_count": 2,
   "id": "19ecaea2",
   "metadata": {},
   "outputs": [
    {
     "name": "stdout",
     "output_type": "stream",
     "text": [
      "16.6\n",
      "-11.4\n",
      "Enter a valid value\n",
      "Division by zero is not possible\n",
      "Enter a valid operator\n"
     ]
    }
   ],
   "source": [
    "# your code goes here\n",
    "\n",
    "def addition(*args) -> float:\n",
    "    try:\n",
    "        result = args[0]\n",
    "        for num in args[1:]:\n",
    "            result +=  num\n",
    "        return round(result,1)\n",
    "    except TypeError:\n",
    "        return \"Enter a valid value\"\n",
    "\n",
    "def subtraction(*args) -> float:\n",
    "    try:\n",
    "        result = args[0]\n",
    "        for num in args[1:]:\n",
    "            result-=num\n",
    "        return round(result,1)\n",
    "    except TypeError:\n",
    "        return \"Enter a valid value\"\n",
    "\n",
    "def multiplication(*args) -> float:\n",
    "    try:\n",
    "        result = args[0]\n",
    "        for num in args[1:]:\n",
    "            result*=num\n",
    "        return round(result,1)\n",
    "    except TypeError:\n",
    "        return \"Enter a valid value\"\n",
    "\n",
    "def division(*args) -> float:\n",
    "    try:\n",
    "        result = args[0]\n",
    "        for num in args[1:]:\n",
    "            result/=num\n",
    "        return round(result,3)\n",
    "    except ZeroDivisionError:\n",
    "        return \"Division by zero is not possible\"\n",
    "\n",
    "def calculate(*args) -> float:\n",
    "    if args[-1] == \"+\":\n",
    "        return addition(*args[:-1])\n",
    "    elif args[-1] == \"-\":\n",
    "        return subtraction(*args[:-1])\n",
    "    elif args[-1] == \"*\":\n",
    "        return multiplication(*args[:-1])\n",
    "    elif args[-1] == \"/\":\n",
    "        return division(*args[:-1])\n",
    "    else:\n",
    "        return \"Enter a valid operator\"\n",
    "    \n",
    "\n",
    "print(calculate(2.6,2,3,4,5,\"+\"))\n",
    "print(calculate(2.6,2,3,4,5,\"-\"))\n",
    "print(calculate(2.6,2,\"3\",4,5,\"*\"))\n",
    "print(calculate(2.6,2,0,4,5,\"/\"))\n",
    "print(calculate(2.6,2,3,4,5,\"9\"))\n"
   ]
  }
 ],
 "metadata": {
  "kernelspec": {
   "display_name": "Python 3",
   "language": "python",
   "name": "python3"
  },
  "language_info": {
   "codemirror_mode": {
    "name": "ipython",
    "version": 3
   },
   "file_extension": ".py",
   "mimetype": "text/x-python",
   "name": "python",
   "nbconvert_exporter": "python",
   "pygments_lexer": "ipython3",
   "version": "3.13.2"
  }
 },
 "nbformat": 4,
 "nbformat_minor": 5
}
